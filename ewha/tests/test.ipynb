{
 "cells": [
  {
   "cell_type": "code",
   "execution_count": 1,
   "metadata": {},
   "outputs": [],
   "source": [
    "import pandas as pd\n",
    "from ewha_pdf import EwhaPDF\n",
    "from llms.utils import evaluate_accuracy"
   ]
  },
  {
   "cell_type": "code",
   "execution_count": 7,
   "metadata": {},
   "outputs": [
    {
     "name": "stdout",
     "output_type": "stream",
     "text": [
      "['(D)']\n",
      "['(D)', '(D)']\n",
      "['(D)', '(D)', '(D)']\n",
      "['(D)', '(D)', '(D)', '(D)']\n",
      "['(D)', '(D)', '(D)', '(D)', '(D)']\n",
      "['(D)', '(D)', '(D)', '(D)', '(D)', '(D)']\n",
      "['(D)', '(D)', '(D)', '(D)', '(D)', '(D)', '(D)']\n",
      "['(D)', '(D)', '(D)', '(D)', '(D)', '(D)', '(D)', '(D)']\n",
      "['(D)', '(D)', '(D)', '(D)', '(D)', '(D)', '(D)', '(D)', '(D)']\n",
      "['(D)', '(D)', '(D)', '(D)', '(D)', '(D)', '(D)', '(D)', '(D)', '(D)']\n",
      "['(D)', '(D)', '(D)', '(D)', '(D)', '(D)', '(D)', '(D)', '(D)', '(D)', '(D)']\n",
      "['(D)', '(D)', '(D)', '(D)', '(D)', '(D)', '(D)', '(D)', '(D)', '(D)', '(D)', '(D)']\n",
      "['(D)', '(D)', '(D)', '(D)', '(D)', '(D)', '(D)', '(D)', '(D)', '(D)', '(D)', '(D)', '(D)']\n",
      "['(D)', '(D)', '(D)', '(D)', '(D)', '(D)', '(D)', '(D)', '(D)', '(D)', '(D)', '(D)', '(D)', '(D)']\n",
      "['(D)', '(D)', '(D)', '(D)', '(D)', '(D)', '(D)', '(D)', '(D)', '(D)', '(D)', '(D)', '(D)', '(D)', '(D)']\n",
      "['(D)', '(D)', '(D)', '(D)', '(D)', '(D)', '(D)', '(D)', '(D)', '(D)', '(D)', '(D)', '(D)', '(D)', '(D)', '(D)']\n",
      "['(D)', '(D)', '(D)', '(D)', '(D)', '(D)', '(D)', '(D)', '(D)', '(D)', '(D)', '(D)', '(D)', '(D)', '(D)', '(D)', '(D)']\n",
      "['(D)', '(D)', '(D)', '(D)', '(D)', '(D)', '(D)', '(D)', '(D)', '(D)', '(D)', '(D)', '(D)', '(D)', '(D)', '(D)', '(D)', '(D)']\n",
      "['(D)', '(D)', '(D)', '(D)', '(D)', '(D)', '(D)', '(D)', '(D)', '(D)', '(D)', '(D)', '(D)', '(D)', '(D)', '(D)', '(D)', '(D)', '(D)']\n",
      "['(D)', '(D)', '(D)', '(D)', '(D)', '(D)', '(D)', '(D)', '(D)', '(D)', '(D)', '(D)', '(D)', '(D)', '(D)', '(D)', '(D)', '(D)', '(D)', '(D)']\n",
      "['(D)', '(D)', '(D)', '(D)', '(D)', '(D)', '(D)', '(D)', '(D)', '(D)', '(D)', '(D)', '(D)', '(D)', '(D)', '(D)', '(D)', '(D)', '(D)', '(D)', '(D)']\n",
      "['(D)', '(D)', '(D)', '(D)', '(D)', '(D)', '(D)', '(D)', '(D)', '(D)', '(D)', '(D)', '(D)', '(D)', '(D)', '(D)', '(D)', '(D)', '(D)', '(D)', '(D)', '(D)']\n",
      "['(D)', '(D)', '(D)', '(D)', '(D)', '(D)', '(D)', '(D)', '(D)', '(D)', '(D)', '(D)', '(D)', '(D)', '(D)', '(D)', '(D)', '(D)', '(D)', '(D)', '(D)', '(D)', '(D)']\n",
      "['(D)', '(D)', '(D)', '(D)', '(D)', '(D)', '(D)', '(D)', '(D)', '(D)', '(D)', '(D)', '(D)', '(D)', '(D)', '(D)', '(D)', '(D)', '(D)', '(D)', '(D)', '(D)', '(D)', '(D)']\n",
      "['(D)', '(D)', '(D)', '(D)', '(D)', '(D)', '(D)', '(D)', '(D)', '(D)', '(D)', '(D)', '(D)', '(D)', '(D)', '(D)', '(D)', '(D)', '(D)', '(D)', '(D)', '(D)', '(D)', '(D)', '(D)']\n",
      "['(D)', '(D)', '(D)', '(D)', '(D)', '(D)', '(D)', '(D)', '(D)', '(D)', '(D)', '(D)', '(D)', '(D)', '(D)', '(D)', '(D)', '(D)', '(D)', '(D)', '(D)', '(D)', '(D)', '(D)', '(D)']\n"
     ]
    },
    {
     "data": {
      "text/plain": [
       "'(D)'"
      ]
     },
     "execution_count": 7,
     "metadata": {},
     "output_type": "execute_result"
    }
   ],
   "source": [
    "api_key = 'up_JQDg7exNaCa9WsUszuo1v3dmWc2LZ'\n",
    "ewha = EwhaPDF(api_key=api_key)\n",
    "\n",
    "query = \"\"\"QUESTION6) 1980학년도 이전 입학생에 대하여 적용하는 등급에 따른 성적점으로 잘못 연결된 것은 무엇인가? \n",
    "(A) 등급: A+, 성적점: 4 \n",
    "(B) 등급: A-: 성적점: 3.5 \n",
    "(C) 등급: B+, 성적점: 3 \n",
    "(D) 등급: C, 성적점: 2\"\"\"\n",
    "\n",
    "ewha.ensemble_equally(query)"
   ]
  },
  {
   "cell_type": "code",
   "execution_count": null,
   "metadata": {},
   "outputs": [],
   "source": []
  }
 ],
 "metadata": {
  "kernelspec": {
   "display_name": "jungmin",
   "language": "python",
   "name": "python3"
  },
  "language_info": {
   "codemirror_mode": {
    "name": "ipython",
    "version": 3
   },
   "file_extension": ".py",
   "mimetype": "text/x-python",
   "name": "python",
   "nbconvert_exporter": "python",
   "pygments_lexer": "ipython3",
   "version": "3.10.14"
  }
 },
 "nbformat": 4,
 "nbformat_minor": 2
}

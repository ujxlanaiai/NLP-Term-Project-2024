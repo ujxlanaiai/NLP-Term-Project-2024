{
 "cells": [
  {
   "cell_type": "code",
   "execution_count": 155,
   "metadata": {},
   "outputs": [],
   "source": [
    "from llms.block_A import BlockA\n",
    "from llms.block_B import BlockB\n",
    "from llms.block_C import BlockC\n",
    "\n",
    "from llms.utils import extract_answer"
   ]
  },
  {
   "cell_type": "code",
   "execution_count": 156,
   "metadata": {},
   "outputs": [],
   "source": [
    "api_key = 'up_JQDg7exNaCa9WsUszuo1v3dmWc2LZ'\n",
    "embedded_title = \"./docs/embedded_title.json\"\n",
    "embedded_doc2 = \"./docs/embedded_doc2.json\"\n",
    "doc1 = \"./docs/doc_1.json\"\n",
    "doc2 = \"./docs/doc_2.json\""
   ]
  },
  {
   "cell_type": "markdown",
   "metadata": {},
   "source": [
    "| LLM Block A: Select most relevent title and get whole content"
   ]
  },
  {
   "cell_type": "code",
   "execution_count": 157,
   "metadata": {},
   "outputs": [],
   "source": [
    "query = \"사회체육학과 학생에게 수여하는 학위의 종류는 무엇인가? (A) 사회학사 (B) 이학사 (C) 체육학사 (D) 체육과학학사 (E) 보건학사 (F) 가정학사 (G) 체육사회학사\""
   ]
  },
  {
   "cell_type": "code",
   "execution_count": 158,
   "metadata": {},
   "outputs": [],
   "source": [
    "query2 = \"사회체육학과 학생에게 수여하는 학위의 종류는 무엇인가? (A) 사회학사 (B) 이학사 (C) 체육학사 (D) 체육과학학사 (E) 보건학사 (F) 가정학사 (G) 체육사회학사\""
   ]
  },
  {
   "cell_type": "code",
   "execution_count": 159,
   "metadata": {},
   "outputs": [],
   "source": [
    "query2 = \"부칙(2005. 8. 17 개정)에서 명시하고 있는 학칙 시행일자는? (A) 2005년 8월 1일 (B) 2015년 9월 1일 (C) 2009년 10월 1일 (D) 2001년 11월 1일 (E) 2008년 12월 1일\""
   ]
  },
  {
   "cell_type": "code",
   "execution_count": 160,
   "metadata": {},
   "outputs": [
    {
     "name": "stdout",
     "output_type": "stream",
     "text": [
      "<시작>\n",
      "[답변]: (A) 2005년 8월 1일\n",
      "[이유]: 부칙(2005. 8. 17 개정)에서 명시하고 있는 학칙 시행일자는 2005년 8월 1일입니다.\n",
      "\n",
      "[최종답변]: (A) 2005년 8월 1일\n",
      "<끝>\n"
     ]
    }
   ],
   "source": [
    "llm_block_A = BlockA(api_key, embedded_title, doc1, temp=0.2)\n",
    "response = llm_block_A.get_response(query2)\n",
    "\n",
    "print(response)\n",
    "# print(extract_answer(response))\n",
    "\n",
    "# ans = []\n",
    "# for i in range(10):\n",
    "#     response = llm_block_A.get_response(query2)\n",
    "\n",
    "#     print(response)\n",
    "#     response = extract_answer(response)\n",
    "#     ans.append(response)\n",
    "\n",
    "# print(max(ans))\n",
    "# print(ans)"
   ]
  },
  {
   "cell_type": "code",
   "execution_count": 161,
   "metadata": {},
   "outputs": [
    {
     "name": "stdout",
     "output_type": "stream",
     "text": [
      "<Start>\n",
      "[Answer]: (A) 2005년 8월 1일\n",
      "[Reason]: 부칙(2005. 8. 17 개정)에서 명시하고 있는 학칙 시행일자는 2005년 8월 1일입니다.\n",
      "[Final Answer]: (A) 2005년 8월 1일\n",
      "<End>\n",
      "<시작>\n",
      "[답변]: (A) 2005년 8월 1일\n",
      "[이유]: 부칙(2005. 8. 17 개정)에서 명시하고 있는 학칙 시행일자는 2005년 8월 1일입니다.\n",
      "\n",
      "[최종답변]: (A) 2005년 8월 1일\n",
      "<끝>\n",
      "<시작>\n",
      "[답변]: (A) 2005년 8월 1일\n",
      "[이유]: 부칙(2005. 8. 17 개정)에서 명시하고 있는 학칙 시행일자는 2005년 8월 1일입니다.\n",
      "[최종답변]: (A) 2005년 8월 1일\n",
      "<끝>\n",
      "A\n",
      "['A', 'A', 'A']\n"
     ]
    }
   ],
   "source": [
    "ans_A = []\n",
    "for i in range(3):\n",
    "    response = llm_block_A.get_response(query2)\n",
    "\n",
    "    print(response)\n",
    "    response = extract_answer(response)\n",
    "    ans_A.append(response)\n",
    "\n",
    "print(max(ans_A))\n",
    "print(ans_A)\n",
    "\n",
    "# ans_A = []\n",
    "# for i in range(5):\n",
    "#     llm_block_A = BlockA(api_key, embedded_title, doc1, temp=0.9)\n",
    "#     response = llm_block_A.get_response(query2)\n",
    "\n",
    "#     print(response)\n",
    "#     response = extract_answer(response)\n",
    "#     ans_A.append(response)\n",
    "\n",
    "# print(max(ans_A))\n",
    "# print(ans_A)"
   ]
  },
  {
   "cell_type": "markdown",
   "metadata": {},
   "source": [
    "| LLM Block B: Select most relevent title, and select specific article inside content"
   ]
  },
  {
   "cell_type": "code",
   "execution_count": 162,
   "metadata": {},
   "outputs": [
    {
     "name": "stdout",
     "output_type": "stream",
     "text": [
      "article no. 0\n",
      "article no. 1\n",
      "제23조(수업연한): \n",
      "① 각 대학의 수업연한은 4년으로 한다. 다만, 엘텍공과대학의 건축학전공은 5년으로 하고, 의과대학은 6년으로 하되 의예과는 2년, 의학과는 4년으로 하며, 약학대학은 6년으로 하되 다른 학과 또는 학부 등에서 이수하는 기초․소양 교육은 2년으로 하고, 전공교육은 4년으로 한다. (개정 2014.11.21., 2017.2.8.)\n",
      "② 삭제 (1984.3.5)\n",
      "③ 학칙이 정하는 졸업에 필요한 요건을 갖춘 학생에 대하여는 제1항의 규정에 불구하고 총장이 정하는 바에 따라 1년 이내에서 수업연한을 단축할 수 있다. (개정 2014.11.21)\n"
     ]
    }
   ],
   "source": [
    "llm_block_B = BlockB(api_key, embedded_title, embedded_doc2, doc2)\n",
    "response = llm_block_B.get_response(query2)"
   ]
  },
  {
   "cell_type": "code",
   "execution_count": 163,
   "metadata": {},
   "outputs": [
    {
     "name": "stdout",
     "output_type": "stream",
     "text": [
      "article no. 0\n",
      "article no. 1\n",
      "제23조(수업연한): \n",
      "① 각 대학의 수업연한은 4년으로 한다. 다만, 엘텍공과대학의 건축학전공은 5년으로 하고, 의과대학은 6년으로 하되 의예과는 2년, 의학과는 4년으로 하며, 약학대학은 6년으로 하되 다른 학과 또는 학부 등에서 이수하는 기초․소양 교육은 2년으로 하고, 전공교육은 4년으로 한다. (개정 2014.11.21., 2017.2.8.)\n",
      "② 삭제 (1984.3.5)\n",
      "③ 학칙이 정하는 졸업에 필요한 요건을 갖춘 학생에 대하여는 제1항의 규정에 불구하고 총장이 정하는 바에 따라 1년 이내에서 수업연한을 단축할 수 있다. (개정 2014.11.21)\n",
      "<Start>\n",
      "[Answer]: (A) 2005년 8월 1일\n",
      "[Reason]: 부칙(2005. 8. 17 개정)에서 명시하고 있는 학칙 시행일자는 2005년 8월 1일입니다.\n",
      "[Final Answer]: (A) 2005년 8월 1일\n",
      "<End>\n",
      "article no. 0\n",
      "article no. 1\n",
      "2017. 8. 16. 개정\n",
      "<Start>\n",
      "[Answer]: (A) 2005년 8월 1일\n",
      "[Reason]: 부칙(2005. 8. 17 개정)에서 명시하고 있는 학칙 시행일자는 2005년 8월 1일입니다.\n",
      "[Final Answer]: (A) 2005년 8월 1일\n",
      "<End>\n",
      "article no. 0\n",
      "article no. 1\n",
      "2017. 8. 16. 개정\n",
      "<Start>\n",
      "[Answer]: (A) 2005년 8월 1일\n",
      "[Reason]: 부칙(2005. 8. 17 개정)에서 명시하고 있는 학칙 시행일자는 2005년 8월 1일입니다.\n",
      "[Final Answer]: (A) 2005년 8월 1일\n",
      "<End>\n",
      "['A', 'A', 'A']\n"
     ]
    }
   ],
   "source": [
    "ans_B = []\n",
    "for i in range(3):\n",
    "    response = llm_block_B.get_response(query2)\n",
    "\n",
    "    print(response)\n",
    "    response = extract_answer(response)\n",
    "    ans_B.append(response)\n",
    "\n",
    "# print(max(ans_B))\n",
    "print(ans_B)"
   ]
  },
  {
   "cell_type": "code",
   "execution_count": 164,
   "metadata": {},
   "outputs": [
    {
     "name": "stdout",
     "output_type": "stream",
     "text": [
      "article no. 0\n",
      "article no. 1\n",
      "<Start>\n",
      "제23조(수업연한):\n",
      "① 각 대학의 수업연한은 4년으로 한다. 다만, 엘텍공과대학의 건축학전공은 5년으로 하고, 의과대학은 6년으로 하되 의예과는 2년, 의학과는 4년으로 하며, 약학대학은 6년으로 하되 다른 학과 또는 학부 등에서 이수하는 기초․소양 교육은 2년으로 하고, 전공교육은 4년으로 한다. (개정 2014.11.21., 2017.2.8.)\n",
      "<End>\n",
      "<Start>\n",
      "[Answer]: (A) 2005년 8월 1일\n",
      "[Reason]: 부칙(2005. 8. 17 개정)에서 명시하고 있는 학칙 시행일자는 2005년 8월 1일입니다.\n",
      "[Final Answer]: (A) 2005년 8월 1일\n",
      "<End>\n"
     ]
    }
   ],
   "source": [
    "llm_block_C = BlockC(api_key, embedded_title, embedded_doc2, doc2)\n",
    "response = llm_block_C.get_response(query2)\n",
    "print(response)"
   ]
  },
  {
   "cell_type": "code",
   "execution_count": 165,
   "metadata": {},
   "outputs": [
    {
     "name": "stdout",
     "output_type": "stream",
     "text": [
      "article no. 0\n",
      "article no. 1\n",
      "<Start>\n",
      "2017. 8. 16. 개정\n",
      "<End>\n",
      "<Start>\n",
      "[Answer]: (A) 2005년 8월 1일\n",
      "[Reason]: 부칙(2005. 8. 17 개정)에서 명시하고 있는 학칙 시행일자는 2005년 8월 1일입니다.\n",
      "\n",
      "[Final Answer]: (A) 2005년 8월 1일\n",
      "<End>\n",
      "article no. 0\n",
      "article no. 1\n",
      "<Start>\n",
      "2017. 8. 16. 개정\n",
      "<End>\n",
      "<Start>\n",
      "[Answer]: (A) 2005년 8월 1일\n",
      "[Reason]: 부칙(2005. 8. 17 개정)에서 명시하고 있는 학칙 시행일자는 2005년 8월 1일입니다.\n",
      "\n",
      "[Final Answer]: (A) 2005년 8월 1일\n",
      "<End>\n",
      "article no. 0\n",
      "article no. 1\n",
      "<Start>\n",
      "제23조(수업연한):\n",
      "① 각 대학의 수업연한은 4년으로 한다. 다만, 엘텍공과대학의 건축학전공은 5년으로 하고, 의과대학은 6년으로 하되 의예과는 2년, 의학과는 4년으로 하며, 약학대학은 6년으로 하되 다른 학과 또는 학부 등에서 이수하는 기초․소양 교육은 2년으로 하고, 전공교육은 4년으로 한다. (개정 2014.11.21., 2017.2.8.)\n",
      "<End>\n",
      "<Start>\n",
      "[Answer]: (A) 2005년 8월 1일\n",
      "[Reason]: 부칙(2005. 8. 17 개정)에서 명시하고 있는 학칙 시행일자는 2005년 8월 1일입니다.\n",
      "\n",
      "[Final Answer]: (A) 2005년 8월 1일\n",
      "<End>\n",
      "A\n",
      "['A', 'A', 'A']\n"
     ]
    }
   ],
   "source": [
    "ans_C = []\n",
    "for i in range(3):\n",
    "    response = llm_block_C.get_response(query2)\n",
    "\n",
    "    print(response)\n",
    "    response = extract_answer(response)\n",
    "    ans_C.append(response)\n",
    "\n",
    "print(max(ans_C))\n",
    "print(ans_C)"
   ]
  }
 ],
 "metadata": {
  "kernelspec": {
   "display_name": "jungmin",
   "language": "python",
   "name": "python3"
  },
  "language_info": {
   "codemirror_mode": {
    "name": "ipython",
    "version": 3
   },
   "file_extension": ".py",
   "mimetype": "text/x-python",
   "name": "python",
   "nbconvert_exporter": "python",
   "pygments_lexer": "ipython3",
   "version": "3.10.14"
  }
 },
 "nbformat": 4,
 "nbformat_minor": 2
}

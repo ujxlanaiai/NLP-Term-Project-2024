{
 "cells": [
  {
   "cell_type": "code",
   "execution_count": 67,
   "metadata": {},
   "outputs": [],
   "source": [
    "# Block 2\n",
    "# RAG with title -> article-specific search"
   ]
  },
  {
   "cell_type": "code",
   "execution_count": 68,
   "metadata": {},
   "outputs": [],
   "source": [
    "api_key = 'up_JQDg7exNaCa9WsUszuo1v3dmWc2LZ'"
   ]
  },
  {
   "cell_type": "code",
   "execution_count": 69,
   "metadata": {},
   "outputs": [],
   "source": [
    "from langchain_upstage import UpstageEmbeddings\n",
    "from langchain_core.prompts import PromptTemplate\n",
    "from langchain_upstage import ChatUpstage\n",
    "import json\n",
    "from sklearn.metrics.pairwise import cosine_similarity\n",
    "import numpy as np\n",
    "\n",
    "llm = ChatUpstage(api_key=api_key, model='solar-1-mini-chat', temperature=0) # added temperature for random seed\n",
    "\n",
    "embeddings = UpstageEmbeddings(\n",
    "    api_key=api_key,\n",
    "    model=\"embedding-query\"\n",
    ")"
   ]
  },
  {
   "cell_type": "code",
   "execution_count": 70,
   "metadata": {},
   "outputs": [],
   "source": [
    "query = \"사회체육학과 소속 학생이 취득할 수 있는 학위의 종류는 무엇인가요? (A) 공학사 (B) 문학사 (C) 국문학사 (D) 체육학사 (E) 보건학사 (F) 가정학사 (G) 이학사\""
   ]
  },
  {
   "cell_type": "code",
   "execution_count": 71,
   "metadata": {},
   "outputs": [],
   "source": [
    "def search_title_article_similarity(embedded_title, embedded_article, query):\n",
    "    \n",
    "    query_vec = embeddings.embed_query(query)\n",
    "    \n",
    "    with open(embedded_title, 'r', encoding='utf-8') as infile:\n",
    "        data = json.load(infile)\n",
    "        \n",
    "    similarities = []\n",
    "    \n",
    "    for idx, entry in data.items():\n",
    "        title_vec = entry.get(\"title\")\n",
    "        \n",
    "        query_vec = np.array(query_vec)\n",
    "        title_vec = np.array(title_vec[0])\n",
    "        \n",
    "        # print(query_vec.shape, title_vec.shape)\n",
    "        \n",
    "        similarity = cosine_similarity([query_vec], [title_vec])[0][0]\n",
    "        similarities.append((idx, similarity))\n",
    "        \n",
    "    similarities.sort(key=lambda x: x[1], reverse=True)\n",
    "    top_3_indices = [sim[0] for sim in similarities[:3]]\n",
    "    \n",
    "    top1_title_idx, top2_title, top3_title = top_3_indices[0], top_3_indices[1], top_3_indices[2]\n",
    "    \n",
    "    with open(embedded_article, 'r', encoding='utf-8') as infile:\n",
    "        data = json.load(infile)\n",
    "        \n",
    "    article_similarities = []\n",
    "    \n",
    "    print(\"Content idx: \", top1_title_idx)\n",
    "    \n",
    "    for idx in top_3_indices:\n",
    "        content = data.get(str(idx), {}).get(\"content\", [])\n",
    "        \n",
    "        for article in content:\n",
    "            print(\"article no.\", article[\"article_no.\"])\n",
    "            article_no = article[\"article_no.\"]\n",
    "            article_vec = np.array(article[\"embedded_content\"])\n",
    "            \n",
    "            print(article_vec[0].shape, query_vec.shape)\n",
    "            \n",
    "            similarity = cosine_similarity([query_vec], [article_vec[0]])[0][0]\n",
    "            article_similarities.append((article_no, similarity))\n",
    "        \n",
    "        article_similarities.sort(key=lambda x: x[1], reverse=True)\n",
    "        top_3_article_indices = [sim[0] for sim in article_similarities[:3]]\n",
    "        \n",
    "        break # use only top1 title\n",
    "        \n",
    "    return top1_title_idx, top_3_article_indices\n",
    "\n",
    "    \"\"\"\n",
    "    \"1\": {\n",
    "        \"content\": [\n",
    "            {\n",
    "                \"article_no.\": 0,\n",
    "                \"embedded_content\": [\n",
    "                    [\n",
    "    \"\"\""
   ]
  },
  {
   "cell_type": "code",
   "execution_count": 72,
   "metadata": {},
   "outputs": [
    {
     "name": "stdout",
     "output_type": "stream",
     "text": [
      "Content idx:  17\n",
      "article no. 0\n",
      "(4096,) (4096,)\n"
     ]
    }
   ],
   "source": [
    "embedded_title = \"../docs/embedded_title.json\"\n",
    "embedded_article = \"../docs/embedded_doc2.json\"\n",
    "# embedded_doc = \"../docs/embedded_doc1.json\"\n",
    "\n",
    "title_idx, top3_article_idx= search_title_article_similarity(embedded_title, embedded_article, query)"
   ]
  },
  {
   "cell_type": "code",
   "execution_count": 73,
   "metadata": {},
   "outputs": [],
   "source": [
    "def get_article_content_text(title_idx, article_top3_list, doc_2):\n",
    "    with open(doc_2, 'r', encoding = 'utf-8') as infile:\n",
    "        data = json.load(infile)\n",
    "        \n",
    "    article_contents = data.get(str(title_idx), {}).get(\"content\", [])\n",
    "    \n",
    "    top3_article_contents = []\n",
    "    top3_article_contents.append(article_contents[article_top3_list[0]])\n",
    "    \n",
    "    return top3_article_contents"
   ]
  },
  {
   "cell_type": "code",
   "execution_count": 74,
   "metadata": {},
   "outputs": [
    {
     "data": {
      "text/plain": [
       "[\"부칙(2006. 6. 28  개정)\\n ① (시행일)  이 학칙은 2007년 3월 1일부터 시행한다. 다만, 제8조 제4항 제18호는 2005년 8월 13일부터, 제50조 [별표 2] 중 바이오인포매틱스 연계전공은 2006년 9월 1일부터 시행한다. \\n② (경과조치)  제50조 [별표 2]와 관련하여, 편제 조정으로 인하여 이 학칙 시행당시 소속대학이 변경되거나 명칭이 변경된 학과(전공) 또는 신입생 모집이 중단된 학과(전공)의 재적생에 대하여는 구 학칙에 따라 다음과 같이 학사학위를 수여한다.  \\n[\\n    {'대학': '사회과학대학', '학과 또는 전공': '사회복지학', '학위의 종류': '<문학사>'},\\n    {'대학': '자연과학대학', '학과 또는 전공': '분자생명과학', '학위의 종류': '<이학사>'},\\n    {'대학': '공과대학', '학과 또는 전공': '컴퓨터학', '학위의 종류': '<공학사>'},\\n    {'대학': '공과대학', '학과 또는 전공': '정보통신학', '학위의 종류': '<공학사>'},\\n    {'대학': '공과대학', '학과 또는 전공': '건축학(4년제)', '학위의 종류': '<공학사>'},\\n    {'대학': '공과대학', '학과 또는 전공': '건축학(5년제)', '학위의 종류': '<건축학사>'},\\n    {'대학': '공과대학', '학과 또는 전공': '환경학', '학위의 종류': '<공학사>'},\\n    {'대학': '음악대학', '학과 또는 전공': '건반악기', '학위의 종류': '<음악학사>'},\\n    {'대학': '음악대학', '학과 또는 전공': '관현악', '학위의 종류': '음악학사'},\\n    {'대학': '음악대학', '학과 또는 전공': '성악', '학위의 종류': '음악학사'},\\n    {'대학': '음악대학', '학과 또는 전공': '교회음악', '학위의 종류': '음악학사'},\\n    {'대학': '음악대학', '학과 또는 전공': '작곡', '학위의 종류': '음악학사'},\\n    {'대학': '음악대학', '학과 또는 전공': '한국음악', '학위의 종류': '음악학사'},\\n    {'대학': '조형예술대학', '학과 또는 전공': '한국화', '학위의 종류': '미술학사'},\\n    {'대학': '조형예술대학', '학과 또는 전공': '회화․판화', '학위의 종류': '미술학사'},\\n    {'대학': '조형예술대학', '학과 또는 전공': '조소', '학위의 종류': '미술학사'},\\n    {'대학': '조형예술대학', '학과 또는 전공': '환경디자인', '학위의 종류': '미술학사'},\\n    {'대학': '조형예술대학', '학과 또는 전공': '시각정보디자인', '학위의 종류': '미술학사'},\\n    {'대학': '조형예술대학', '학과 또는 전공': '산업디자인', '학위의 종류': '미술학사'},\\n    {'대학': '조형예술대학', '학과 또는 전공': '패션디자인', '학위의 종류': '미술학사'},\\n    {'대학': '조형예술대학', '학과 또는 전공': '섬유예술', '학위의 종류': '미술학사'},\\n    {'대학': '조형예술대학', '학과 또는 전공': '도자예술', '학위의 종류': '미술학사'},\\n    {'대학': '체육과학대학', '학과 또는 전공': '체육학', '학위의 종류': '<이학사>'},\\n    {'대학': '체육과학대학', '학과 또는 전공': '사회체육학', '학위의 종류': '<이학사>},\\n    {'대학': '체육과학대학', '학과 또는 전공': '무용', '학위의 종류': '무용학사'},\\n    {'대학': '사범대학', '학과 또는 전공': '보건교육', '학위의 종류': '보건학사'},\\n    {'대학': '경영대학', '학과 또는 전공': '비서학', '학위의 종류': '문학사'},\\n    {'대학': '의과대학', '학과 또는 전공': '의학', '학위의 종류': '의학사'},\\n    {'대학': '간호과학대학', '학과 또는 전공': '간호과학', '학위의 종류': '간호학사'},\\n    {'대학': '약학대학', '학과 또는 전공': '제약학', '학위의 종류': '약학사'},\\n    {'대학': '생활환경대학', '학과 또는 전공': '소비자인간발달학', '학위의 종류': '문학사'},\\n    {'대학': '생활환경대학', '학과 또는 전공': '의류직물학', '학위의 종류': '가정학사'},\\n    {'대학': '생활환경대학', '학과 또는 전공': '식품영양학', '학위의 종류': '이학사'},\\n]\"]"
      ]
     },
     "execution_count": 74,
     "metadata": {},
     "output_type": "execute_result"
    }
   ],
   "source": [
    "get_article_content_text(title_idx, top3_article_idx, '../docs/doc_2.json')"
   ]
  },
  {
   "cell_type": "code",
   "execution_count": 75,
   "metadata": {},
   "outputs": [],
   "source": [
    "prompt_template = PromptTemplate.from_template(\n",
    "    \"\"\"\n",
    "    Please provide the most correct answer ONLY BASED on the context.\n",
    "    IMPORTANT: Select the EXACT, SAME answer from the question and the context!!!\n",
    "    \n",
    "    Response format(Must be strictly followed!):\n",
    "    <Start>\n",
    "    [Answer]: (A) answer\n",
    "    [Reason]: Your short reason why\n",
    "    <End>\n",
    "    \n",
    "    Now, here are the question and context:\n",
    "    Question: {question}\n",
    "    Context: {context}\n",
    "    \n",
    "    If the answer is NOT found, you MUST respond with \"The information is not present in the context.\"\n",
    "    \"\"\"\n",
    ")"
   ]
  },
  {
   "cell_type": "code",
   "execution_count": 76,
   "metadata": {},
   "outputs": [
    {
     "name": "stdout",
     "output_type": "stream",
     "text": [
      "[\"부칙(2006. 6. 28  개정)\\n ① (시행일)  이 학칙은 2007년 3월 1일부터 시행한다. 다만, 제8조 제4항 제18호는 2005년 8월 13일부터, 제50조 [별표 2] 중 바이오인포매틱스 연계전공은 2006년 9월 1일부터 시행한다. \\n② (경과조치)  제50조 [별표 2]와 관련하여, 편제 조정으로 인하여 이 학칙 시행당시 소속대학이 변경되거나 명칭이 변경된 학과(전공) 또는 신입생 모집이 중단된 학과(전공)의 재적생에 대하여는 구 학칙에 따라 다음과 같이 학사학위를 수여한다.  \\n[\\n    {'대학': '사회과학대학', '학과 또는 전공': '사회복지학', '학위의 종류': '<문학사>'},\\n    {'대학': '자연과학대학', '학과 또는 전공': '분자생명과학', '학위의 종류': '<이학사>'},\\n    {'대학': '공과대학', '학과 또는 전공': '컴퓨터학', '학위의 종류': '<공학사>'},\\n    {'대학': '공과대학', '학과 또는 전공': '정보통신학', '학위의 종류': '<공학사>'},\\n    {'대학': '공과대학', '학과 또는 전공': '건축학(4년제)', '학위의 종류': '<공학사>'},\\n    {'대학': '공과대학', '학과 또는 전공': '건축학(5년제)', '학위의 종류': '<건축학사>'},\\n    {'대학': '공과대학', '학과 또는 전공': '환경학', '학위의 종류': '<공학사>'},\\n    {'대학': '음악대학', '학과 또는 전공': '건반악기', '학위의 종류': '<음악학사>'},\\n    {'대학': '음악대학', '학과 또는 전공': '관현악', '학위의 종류': '음악학사'},\\n    {'대학': '음악대학', '학과 또는 전공': '성악', '학위의 종류': '음악학사'},\\n    {'대학': '음악대학', '학과 또는 전공': '교회음악', '학위의 종류': '음악학사'},\\n    {'대학': '음악대학', '학과 또는 전공': '작곡', '학위의 종류': '음악학사'},\\n    {'대학': '음악대학', '학과 또는 전공': '한국음악', '학위의 종류': '음악학사'},\\n    {'대학': '조형예술대학', '학과 또는 전공': '한국화', '학위의 종류': '미술학사'},\\n    {'대학': '조형예술대학', '학과 또는 전공': '회화․판화', '학위의 종류': '미술학사'},\\n    {'대학': '조형예술대학', '학과 또는 전공': '조소', '학위의 종류': '미술학사'},\\n    {'대학': '조형예술대학', '학과 또는 전공': '환경디자인', '학위의 종류': '미술학사'},\\n    {'대학': '조형예술대학', '학과 또는 전공': '시각정보디자인', '학위의 종류': '미술학사'},\\n    {'대학': '조형예술대학', '학과 또는 전공': '산업디자인', '학위의 종류': '미술학사'},\\n    {'대학': '조형예술대학', '학과 또는 전공': '패션디자인', '학위의 종류': '미술학사'},\\n    {'대학': '조형예술대학', '학과 또는 전공': '섬유예술', '학위의 종류': '미술학사'},\\n    {'대학': '조형예술대학', '학과 또는 전공': '도자예술', '학위의 종류': '미술학사'},\\n    {'대학': '체육과학대학', '학과 또는 전공': '체육학', '학위의 종류': '<이학사>'},\\n    {'대학': '체육과학대학', '학과 또는 전공': '사회체육학', '학위의 종류': '<이학사>},\\n    {'대학': '체육과학대학', '학과 또는 전공': '무용', '학위의 종류': '무용학사'},\\n    {'대학': '사범대학', '학과 또는 전공': '보건교육', '학위의 종류': '보건학사'},\\n    {'대학': '경영대학', '학과 또는 전공': '비서학', '학위의 종류': '문학사'},\\n    {'대학': '의과대학', '학과 또는 전공': '의학', '학위의 종류': '의학사'},\\n    {'대학': '간호과학대학', '학과 또는 전공': '간호과학', '학위의 종류': '간호학사'},\\n    {'대학': '약학대학', '학과 또는 전공': '제약학', '학위의 종류': '약학사'},\\n    {'대학': '생활환경대학', '학과 또는 전공': '소비자인간발달학', '학위의 종류': '문학사'},\\n    {'대학': '생활환경대학', '학과 또는 전공': '의류직물학', '학위의 종류': '가정학사'},\\n    {'대학': '생활환경대학', '학과 또는 전공': '식품영양학', '학위의 종류': '이학사'},\\n]\"]\n"
     ]
    }
   ],
   "source": [
    "chain = prompt_template | llm\n",
    "\n",
    "context = get_article_content_text(title_idx, top3_article_idx, '../docs/doc_2.json')\n",
    "\n",
    "print(context)\n",
    "response = chain.invoke({\"question\": query, \"context\": context})"
   ]
  },
  {
   "cell_type": "code",
   "execution_count": 77,
   "metadata": {},
   "outputs": [
    {
     "name": "stdout",
     "output_type": "stream",
     "text": [
      "<Start>\n",
      "[Answer]: (D) 체육학사\n",
      "[Reason]: The context states that the degree type for a student in the Department of Social Physical Education is a Bachelor of Physical Education (<이학사>).\n",
      "<End>\n"
     ]
    }
   ],
   "source": [
    "print(response.content)"
   ]
  }
 ],
 "metadata": {
  "kernelspec": {
   "display_name": "jungmin",
   "language": "python",
   "name": "python3"
  },
  "language_info": {
   "codemirror_mode": {
    "name": "ipython",
    "version": 3
   },
   "file_extension": ".py",
   "mimetype": "text/x-python",
   "name": "python",
   "nbconvert_exporter": "python",
   "pygments_lexer": "ipython3",
   "version": "3.10.14"
  }
 },
 "nbformat": 4,
 "nbformat_minor": 2
}

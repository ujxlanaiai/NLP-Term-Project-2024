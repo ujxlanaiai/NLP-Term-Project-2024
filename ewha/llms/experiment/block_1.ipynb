{
 "cells": [
  {
   "cell_type": "code",
   "execution_count": 331,
   "metadata": {},
   "outputs": [],
   "source": [
    "# Block 1\n",
    "# RAG with title - total article search"
   ]
  },
  {
   "cell_type": "code",
   "execution_count": 332,
   "metadata": {},
   "outputs": [],
   "source": [
    "api_key = 'up_JQDg7exNaCa9WsUszuo1v3dmWc2LZ'"
   ]
  },
  {
   "cell_type": "code",
   "execution_count": 333,
   "metadata": {},
   "outputs": [],
   "source": [
    "from langchain_upstage import UpstageEmbeddings\n",
    "from langchain_core.prompts import PromptTemplate\n",
    "from langchain_upstage import ChatUpstage\n",
    "import json\n",
    "from sklearn.metrics.pairwise import cosine_similarity\n",
    "import numpy as np\n",
    "\n",
    "llm = ChatUpstage(api_key=api_key, model='solar-1-mini-chat', temperature=0) # added temperature for random seed\n",
    "\n",
    "embeddings = UpstageEmbeddings(\n",
    "    api_key=api_key,\n",
    "    model=\"embedding-query\"\n",
    ")"
   ]
  },
  {
   "cell_type": "code",
   "execution_count": 334,
   "metadata": {},
   "outputs": [],
   "source": [
    "query = \"사회체육학과가 취득하는 학위 명은?\""
   ]
  },
  {
   "cell_type": "markdown",
   "metadata": {},
   "source": [
    "| Method1: Cosine similarity with question - title"
   ]
  },
  {
   "cell_type": "code",
   "execution_count": 335,
   "metadata": {},
   "outputs": [],
   "source": [
    "def search_title_similarity(embedded_title, query):\n",
    "    \n",
    "    query_vec = embeddings.embed_query(query)\n",
    "    \n",
    "    with open(embedded_title, 'r', encoding='utf-8') as infile:\n",
    "        data = json.load(infile)\n",
    "        \n",
    "    similarities = []\n",
    "    \n",
    "    for idx, entry in data.items():\n",
    "        title_vec = entry.get(\"title\")\n",
    "        \n",
    "        query_vec = np.array(query_vec)\n",
    "        title_vec = np.array(title_vec[0])\n",
    "        \n",
    "        # print(query_vec.shape, title_vec.shape)\n",
    "        \n",
    "        similarity = cosine_similarity([query_vec], [title_vec])[0][0]\n",
    "        similarities.append((idx, similarity))\n",
    "        \n",
    "    similarities.sort(key=lambda x: x[1], reverse=True)\n",
    "    top_3_indices = [sim[0] for sim in similarities[:3]]\n",
    "    \n",
    "    return top_3_indices"
   ]
  },
  {
   "cell_type": "code",
   "execution_count": 336,
   "metadata": {},
   "outputs": [
    {
     "name": "stdout",
     "output_type": "stream",
     "text": [
      "17 2 3\n"
     ]
    }
   ],
   "source": [
    "embedded_title = \"../docs/embedded_title.json\"\n",
    "embedded_doc = \"../docs/embedded_doc1.json\"\n",
    "\n",
    "top3 = search_title_similarity(embedded_title, query)\n",
    "print(top3[0], top3[1], top3[2])"
   ]
  },
  {
   "cell_type": "code",
   "execution_count": 337,
   "metadata": {},
   "outputs": [],
   "source": [
    "def get_context_text(index, doc_1):\n",
    "    with open(doc_1, 'r', encoding = 'utf-8') as infile:\n",
    "        data = json.load(infile)\n",
    "        \n",
    "    # print(data[\"0\"].get(\"content\"))\n",
    "    \n",
    "    return data[str(index)].get(\"content\")"
   ]
  },
  {
   "cell_type": "code",
   "execution_count": 338,
   "metadata": {},
   "outputs": [
    {
     "data": {
      "text/plain": [
       "'- 제정 날짜: 1946.8.15\\n- 개정 날짜: 2017.8.16'"
      ]
     },
     "execution_count": 338,
     "metadata": {},
     "output_type": "execute_result"
    }
   ],
   "source": [
    "get_context_text(0, \"../docs/doc_1.json\")"
   ]
  },
  {
   "cell_type": "code",
   "execution_count": 339,
   "metadata": {},
   "outputs": [],
   "source": [
    "prompt_template = PromptTemplate.from_template(\n",
    "    \"\"\"\n",
    "    Please provide the most correct answer BASED ON THE CONTEXT.\n",
    "    \n",
    "    Response format:\n",
    "    <Start>\n",
    "    [Answer]: (A) answer\n",
    "    [Reason]: Your short reason why\n",
    "    <End>\n",
    "    \n",
    "    Now, here are the question and context:\n",
    "    Question: {question}\n",
    "    Context: {context}\n",
    "    \n",
    "    If the answer is NOT found, you MUST respond with \"The information is not present in the context.\"\n",
    "    \"\"\"\n",
    ")"
   ]
  },
  {
   "cell_type": "code",
   "execution_count": 340,
   "metadata": {},
   "outputs": [],
   "source": [
    "chain = prompt_template | llm\n",
    "\n",
    "context = get_context_text(top3[0], \"../docs/doc_1.json\")\n",
    "answer = chain.invoke({\"question\": query, \"context\": context})"
   ]
  },
  {
   "cell_type": "code",
   "execution_count": 341,
   "metadata": {},
   "outputs": [
    {
     "name": "stdout",
     "output_type": "stream",
     "text": [
      "- 부칙(2006. 6. 28  개정)\n",
      " ① (시행일)  이 학칙은 2007년 3월 1일부터 시행한다. 다만, 제8조 제4항 제18호는 2005년 8월 13일부터, 제50조 [별표 2] 중 바이오인포매틱스 연계전공은 2006년 9월 1일부터 시행한다. \n",
      "② (경과조치)  제50조 [별표 2]와 관련하여, 편제 조정으로 인하여 이 학칙 시행당시 소속대학이 변경되거나 명칭이 변경된 학과(전공) 또는 신입생 모집이 중단된 학과(전공)의 재적생에 대하여는 구 학칙에 따라 다음과 같이 학사학위를 수여한다.  \n",
      "[\n",
      "    {'대학': '사회과학대학', '학과 또는 전공': '사회복지학', '학위의 종류': '문학사'},\n",
      "    {'대학': '자연과학대학', '학과 또는 전공': '분자생명과학', '학위의 종류': '이학사'},\n",
      "    {'대학': '공과대학', '학과 또는 전공': '컴퓨터학', '학위의 종류': '공학사'},\n",
      "    {'대학': '공과대학', '학과 또는 전공': '정보통신학', '학위의 종류': '공학사'},\n",
      "    {'대학': '공과대학', '학과 또는 전공': '건축학(4년제)', '학위의 종류': '공학사'},\n",
      "    {'대학': '공과대학', '학과 또는 전공': '건축학(5년제)', '학위의 종류': '건축학사'},\n",
      "    {'대학': '공과대학', '학과 또는 전공': '환경학', '학위의 종류': '공학사'},\n",
      "    {'대학': '음악대학', '학과 또는 전공': '건반악기', '학위의 종류': '음악학사'},\n",
      "    {'대학': '음악대학', '학과 또는 전공': '관현악', '학위의 종류': '음악학사'},\n",
      "    {'대학': '음악대학', '학과 또는 전공': '성악', '학위의 종류': '음악학사'},\n",
      "    {'대학': '음악대학', '학과 또는 전공': '교회음악', '학위의 종류': '음악학사'},\n",
      "    {'대학': '음악대학', '학과 또는 전공': '작곡', '학위의 종류': '음악학사'},\n",
      "    {'대학': '음악대학', '학과 또는 전공': '한국음악', '학위의 종류': '음악학사'},\n",
      "    {'대학': '조형예술대학', '학과 또는 전공': '한국화', '학위의 종류': '미술학사'},\n",
      "    {'대학': '조형예술대학', '학과 또는 전공': '회화․판화', '학위의 종류': '미술학사'},\n",
      "    {'대학': '조형예술대학', '학과 또는 전공': '조소', '학위의 종류': '미술학사'},\n",
      "    {'대학': '조형예술대학', '학과 또는 전공': '환경디자인', '학위의 종류': '미술학사'},\n",
      "    {'대학': '조형예술대학', '학과 또는 전공': '시각정보디자인', '학위의 종류': '미술학사'},\n",
      "    {'대학': '조형예술대학', '학과 또는 전공': '산업디자인', '학위의 종류': '미술학사'},\n",
      "    {'대학': '조형예술대학', '학과 또는 전공': '패션디자인', '학위의 종류': '미술학사'},\n",
      "    {'대학': '조형예술대학', '학과 또는 전공': '섬유예술', '학위의 종류': '미술학사'},\n",
      "    {'대학': '조형예술대학', '학과 또는 전공': '도자예술', '학위의 종류': '미술학사'},\n",
      "    {'대학': '체육과학대학', '학과 또는 전공': '체육학', '학위의 종류': '이학사'},\n",
      "    {'대학': '체육과학대학', '학과 또는 전공': '사회체육학', '학위의 종류': '이학사'},\n",
      "    {'대학': '체육과학대학', '학과 또는 전공': '무용', '학위의 종류': '무용학사'},\n",
      "    {'대학': '사범대학', '학과 또는 전공': '보건교육', '학위의 종류': '보건학사'},\n",
      "    {'대학': '경영대학', '학과 또는 전공': '비서학', '학위의 종류': '문학사'},\n",
      "    {'대학': '의과대학', '학과 또는 전공': '의학', '학위의 종류': '의학사'},\n",
      "    {'대학': '간호과학대학', '학과 또는 전공': '간호과학', '학위의 종류': '간호학사'},\n",
      "    {'대학': '약학대학', '학과 또는 전공': '제약학', '학위의 종류': '약학사'},\n",
      "    {'대학': '생활환경대학', '학과 또는 전공': '소비자인간발달학', '학위의 종류': '문학사'},\n",
      "    {'대학': '생활환경대학', '학과 또는 전공': '의류직물학', '학위의 종류': '가정학사'},\n",
      "    {'대학': '생활환경대학', '학과 또는 전공': '식품영양학', '학위의 종류': '이학사'},\n",
      "]\n",
      "<Start>\n",
      "[Answer]: (C) 이학사\n",
      "[Reason]: 문맥에서 체육과학대학의 사회체육학 전공은 이학사 학위를 취득한다고 명시되어 있습니다.\n",
      "<End>\n"
     ]
    }
   ],
   "source": [
    "print(context)\n",
    "print(answer.content)"
   ]
  },
  {
   "cell_type": "code",
   "execution_count": 342,
   "metadata": {},
   "outputs": [],
   "source": [
    "prompt_template = PromptTemplate.from_template(\n",
    "    \"\"\"\n",
    "    Is there a contradiction in this context? If so, why?\n",
    "    Context: {context}\n",
    "    \"\"\"\n",
    ")"
   ]
  },
  {
   "cell_type": "code",
   "execution_count": 343,
   "metadata": {},
   "outputs": [],
   "source": [
    "chain = prompt_template | llm\n",
    "\n",
    "response = chain.invoke({\"question\": query, \"context\": answer.content})"
   ]
  },
  {
   "cell_type": "code",
   "execution_count": 344,
   "metadata": {},
   "outputs": [
    {
     "name": "stdout",
     "output_type": "stream",
     "text": [
      "아니요, 이 문맥에서는 모순이 없습니다. 문맥에서는 체육과학대학의 사회체육학 전공이 이학사 학위를 취득한다고 명확히 언급하고 있습니다. 이학사는 과학 분야의 학사 학위를 의미하며, 사회체육학 전공이 과학 분야에 속하기 때문에 이학사 학위를 취득하는 것은 일관성이 있습니다.\n"
     ]
    }
   ],
   "source": [
    "print(response.content)"
   ]
  }
 ],
 "metadata": {
  "kernelspec": {
   "display_name": "jungmin",
   "language": "python",
   "name": "python3"
  },
  "language_info": {
   "codemirror_mode": {
    "name": "ipython",
    "version": 3
   },
   "file_extension": ".py",
   "mimetype": "text/x-python",
   "name": "python",
   "nbconvert_exporter": "python",
   "pygments_lexer": "ipython3",
   "version": "3.10.14"
  }
 },
 "nbformat": 4,
 "nbformat_minor": 2
}

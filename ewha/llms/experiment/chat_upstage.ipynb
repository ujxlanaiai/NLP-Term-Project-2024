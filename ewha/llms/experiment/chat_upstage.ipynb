{
 "cells": [
  {
   "cell_type": "code",
   "execution_count": 1,
   "metadata": {},
   "outputs": [],
   "source": [
    "api_key = 'up_JQDg7exNaCa9WsUszuo1v3dmWc2LZ'"
   ]
  },
  {
   "cell_type": "code",
   "execution_count": 2,
   "metadata": {},
   "outputs": [
    {
     "name": "stdout",
     "output_type": "stream",
     "text": [
      "[ANSWER]: (A) The information is not present in the context.\n"
     ]
    }
   ],
   "source": [
    "from langchain_core.prompts import PromptTemplate\n",
    "from langchain_upstage import ChatUpstage\n",
    "\n",
    "llm = ChatUpstage(api_key=api_key, model=\"solar-mini\", temperature=0) # added temperature for random seed\n",
    "\n",
    "prompt_template = PromptTemplate.from_template(\n",
    "    \"\"\"\n",
    "    Please provide the most correct answer based on the context.\n",
    "\n",
    "    Response format:\n",
    "    [ANSWER]: (A) answer\n",
    "\n",
    "    Now, here are the question and context:\n",
    "    Question: {question}\n",
    "    Context: {context}\n",
    "\n",
    "    If the answer is NOT found, you MUST respond with \"The information is not present in the context.\"\n",
    "    \"\"\"\n",
    ")\n",
    "\n",
    "chain = prompt_template | llm\n",
    "responses = []\n",
    "\n",
    "print(chain.invoke({\"question\": 'What is an Apple?', \"context\": \"Apple is red.\"}).content)"
   ]
  },
  {
   "cell_type": "code",
   "execution_count": 3,
   "metadata": {},
   "outputs": [
    {
     "name": "stdout",
     "output_type": "stream",
     "text": [
      "[Revised Question] 사회체육학과 소속 학생이 취득할 수 있는 학위의 종류는 무엇인가요?\n"
     ]
    }
   ],
   "source": [
    "from langchain_core.prompts import PromptTemplate\n",
    "from langchain_upstage import ChatUpstage\n",
    "\n",
    "llm = ChatUpstage(api_key=api_key, model=\"solar-mini\", temperature=0) # added temperature for random seed\n",
    "\n",
    "prompt_template = PromptTemplate.from_template(\n",
    "    \"\"\"\n",
    "    Rewrite the given question to be more detailed and specific, without changing or adding questions.\n",
    "    \n",
    "    Original Question: {question}\n",
    "    \n",
    "    Format your output as follows:\n",
    "    [Revised Question] Your revised question.\n",
    "    \"\"\"\n",
    ")\n",
    "\n",
    "chain = prompt_template | llm\n",
    "responses = []\n",
    "\n",
    "print(chain.invoke({\"question\": \"사회체육학과 소속 학생에게 수여하는 학위의 종류는 무엇인가?\"}).content)"
   ]
  },
  {
   "cell_type": "code",
   "execution_count": 6,
   "metadata": {},
   "outputs": [
    {
     "name": "stdout",
     "output_type": "stream",
     "text": [
      "<시작>\n",
      "[검토]: 문제 없음.\n",
      "[이유]: 학생의 이유는 체육과학대학의 사회체육학 전공자에게 수여되는 학위가 이학사이며, 이는 (C) 체육학사와 일치한다는 것을 올바르게 설명하고 있습니다.\n",
      "<끝>\n"
     ]
    }
   ],
   "source": [
    "from langchain_core.prompts import PromptTemplate\n",
    "from langchain_upstage import ChatUpstage\n",
    "\n",
    "llm = ChatUpstage(api_key=api_key, model=\"solar-mini\", temperature=0) # added temperature for random seed\n",
    "\n",
    "prompt_template = PromptTemplate.from_template(\n",
    "    \"\"\"\n",
    "    Please evaluate whether the student's [reason] aligns perfectly with the [final answer] provided below:\n",
    "    If there IS a problem, respond Yes. Otherwise, No.\n",
    "    \n",
    "    Respond strictly in the following format:\n",
    "    <Start>\n",
    "    [Review]: Yes/No problem.\n",
    "    [Reason]: Your reason\n",
    "    <End>\n",
    "    \n",
    "    Here is the student's message for your review:\n",
    "    Question: {question}\n",
    "    Possibly wrong student's message: {content}\n",
    "    \"\"\"\n",
    ")\n",
    "\n",
    "chain = prompt_template | llm\n",
    "responses = []\n",
    "\n",
    "print(chain.invoke({\"question\": \"사회체육학과 소속 학생에게 수여하는 학위는 무엇인가? (A) 공학사 (B) 문학사 (C) 체육학사 (D) 의학사 (E) 보건학사 (F) 가정학사 (G) 이학사\",\"content\": \"\"\"<시작>\n",
    "[답변]: (C) 체육학사\n",
    "[이유]: 문맥에서 체육과학대학의 사회체육학 전공자에게 수여되는 학위는 이학사라고 언급되어 있으며, 이는 (C) 체육학사와 일치합니다.\n",
    "\n",
    "[최종답변]: (C) 체육학사\n",
    "<끝>\"\"\"}).content)"
   ]
  },
  {
   "cell_type": "code",
   "execution_count": null,
   "metadata": {},
   "outputs": [],
   "source": []
  }
 ],
 "metadata": {
  "kernelspec": {
   "display_name": "jungmin",
   "language": "python",
   "name": "python3"
  },
  "language_info": {
   "codemirror_mode": {
    "name": "ipython",
    "version": 3
   },
   "file_extension": ".py",
   "mimetype": "text/x-python",
   "name": "python",
   "nbconvert_exporter": "python",
   "pygments_lexer": "ipython3",
   "version": "3.10.14"
  }
 },
 "nbformat": 4,
 "nbformat_minor": 2
}
